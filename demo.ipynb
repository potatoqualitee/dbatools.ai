{
 "cells": [
  {
   "cell_type": "markdown",
   "metadata": {},
   "source": [
    "## Using PSOpenAI to connect to OpenAI"
   ]
  },
  {
   "cell_type": "code",
   "execution_count": null,
   "metadata": {
    "dotnet_interactive": {
     "language": "pwsh"
    },
    "polyglot_notebook": {
     "kernelName": "pwsh"
    },
    "vscode": {
     "languageId": "polyglot-notebook"
    }
   },
   "outputs": [],
   "source": [
    "Request-ChatCompletion -Message \"What is a splat?\" | Select-Object -ExpandProperty Answer"
   ]
  },
  {
   "cell_type": "code",
   "execution_count": null,
   "metadata": {
    "dotnet_interactive": {
     "language": "pwsh"
    },
    "polyglot_notebook": {
     "kernelName": "pwsh"
    },
    "vscode": {
     "languageId": "polyglot-notebook"
    }
   },
   "outputs": [],
   "source": [
    "Request-ChatCompletion -Message \"What is a splat?\""
   ]
  },
  {
   "cell_type": "markdown",
   "metadata": {},
   "source": [
    "## PowerShell behind the scenes"
   ]
  },
  {
   "cell_type": "code",
   "execution_count": null,
   "metadata": {
    "dotnet_interactive": {
     "language": "pwsh"
    },
    "polyglot_notebook": {
     "kernelName": "pwsh"
    },
    "vscode": {
     "languageId": "polyglot-notebook"
    }
   },
   "outputs": [],
   "source": [
    "# Set the headers\n",
    "$headers = @{\n",
    "    \"Content-Type\"  = \"application/json\"\n",
    "    \"Authorization\" = \"Bearer $env:OPENAI_API_KEY\"\n",
    "}\n",
    "\n",
    "# Prepare the messages array\n",
    "$msgs = @(\n",
    "    @{\n",
    "        role    = \"user\"\n",
    "        content = \"What is a splat?\"\n",
    "    }\n",
    ")\n",
    "\n",
    "# Create the splat for Invoke-RestMethod\n",
    "$splat = @{\n",
    "    Uri     = \"https://api.openai.com/v1/chat/completions\"\n",
    "    Method  = \"Post\"\n",
    "    Headers = $headers\n",
    "    Body    = @{\n",
    "        model    = \"gpt-4o\"\n",
    "        messages = $msgs\n",
    "    } | ConvertTo-Json\n",
    "}\n",
    "\n",
    "$response = Invoke-RestMethod @splat\n",
    "\n",
    "# Output the assistant's reply\n",
    "$response.choices[0].message.content"
   ]
  },
  {
   "cell_type": "code",
   "execution_count": null,
   "metadata": {
    "dotnet_interactive": {
     "language": "pwsh"
    },
    "polyglot_notebook": {
     "kernelName": "pwsh"
    },
    "vscode": {
     "languageId": "polyglot-notebook"
    }
   },
   "outputs": [],
   "source": [
    "$response"
   ]
  },
  {
   "cell_type": "markdown",
   "metadata": {},
   "source": [
    "### Narrow its context"
   ]
  },
  {
   "cell_type": "code",
   "execution_count": 32,
   "metadata": {
    "dotnet_interactive": {
     "language": "pwsh"
    },
    "polyglot_notebook": {
     "kernelName": "pwsh"
    },
    "vscode": {
     "languageId": "polyglot-notebook"
    }
   },
   "outputs": [
    {
     "name": "stdout",
     "output_type": "stream",
     "text": [
      "In PowerShell, \"splatting\" is a technique used to pass a collection of parameter values to a command. This is particularly useful when a command has a large number of parameters or when you want to script in a more readable and maintainable way. Splatting uses a hash table or an array to bundle parameters together and then pass them to the command.\n",
      "\n",
      "There are two main types of splatting in PowerShell:\n",
      "\n",
      "1. **Hash Table Splatting:** This is used when you need to pass named parameters.\n",
      "\n",
      "   ```powershell\n",
      "   $params = @{\n",
      "       Path = \"C:\\MyFolder\"\n",
      "       Filter = \"*.txt\"\n",
      "       Recurse = $true\n",
      "   }\n",
      "\n",
      "   Get-ChildItem @params\n",
      "   ```\n",
      "\n",
      "   In this example, `@params` is a hash table that contains the parameters for `Get-ChildItem` cmdlet. The `@` character is used to splat the hash table.\n",
      "\n",
      "2. **Array Splatting:** This is used when you need to pass positional parameters.\n",
      "\n",
      "   ```powershell\n",
      "   $params = \"C:\\MyFolder\", \"*.txt\", $true\n",
      "\n",
      "   Get-ChildItem @params\n",
      "   ```\n",
      "\n",
      "   In this example, `@params` is an array that contains the parameters for `Get-ChildItem` cmdlet. The first item is considered the path, the second item is the filter, and the third is the recurse flag.\n",
      "\n",
      "### Benefits of Splatting\n",
      "- **Readability:** Makes the script more readable by avoiding long lines of code with multiple parameters.\n",
      "- **Maintainability:** Easier to manage and modify parameter sets.\n",
      "- **Dynamic Parameter Passing:** Useful for scenarios where the parameters are determined at runtime.\n",
      "\n",
      "### Example Usage\n",
      "Here's an example with a `Send-MailMessage` cmdlet, where splatting is extremely useful due to the large number of parameters involved:\n",
      "\n",
      "```powershell\n",
      "$emailParams = @{\n",
      "    From       = \"sender@example.com\"\n",
      "    To         = \"recipient@example.com\"\n",
      "    Subject    = \"Test Email\"\n",
      "    Body       = \"This is a test email.\"\n",
      "    SmtpServer = \"smtp.example.com\"\n",
      "}\n",
      "\n",
      "Send-MailMessage @emailParams\n",
      "```\n",
      "\n",
      "In this manner, splatting can make PowerShell scripts cleaner and easier to write, especially for commands that require many parameters.\n"
     ]
    }
   ],
   "source": [
    "# Set default values\n",
    "$PSDefaultParameterValues[\"Invoke-RestMethod:Headers\"] = $headers\n",
    "$PSDefaultParameterValues[\"Invoke-RestMethod:Method\"] = \"POST\"\n",
    "$PSDefaultParameterValues[\"Invoke-RestMethod:Uri\"] = \"https://api.openai.com/v1/chat/completions\"\n",
    "$PSDefaultParameterValues[\"*:OutVariable\"] = \"response\"\n",
    "\n",
    "# Prepare the messages array\n",
    "$msgs = @(\n",
    "    @{\n",
    "        role    = \"system\"\n",
    "        content = \"You are a PowerShell Expert.\"\n",
    "    }\n",
    "    @{\n",
    "        role    = \"user\"\n",
    "        content = \"What is a splat?\"\n",
    "    }\n",
    ")\n",
    "\n",
    "# Prepare the body\n",
    "$body = @{\n",
    "    model    = \"gpt-4o\"\n",
    "    messages = $msgs\n",
    "} | ConvertTo-Json\n",
    "\n",
    "$response = Invoke-RestMethod -Body $body\n",
    "\n",
    "# Output the assistant's reply\n",
    "$response.choices[0].message.content"
   ]
  },
  {
   "cell_type": "markdown",
   "metadata": {},
   "source": [
    "## How do I know which models I can use?"
   ]
  },
  {
   "cell_type": "code",
   "execution_count": 29,
   "metadata": {
    "dotnet_interactive": {
     "language": "pwsh"
    },
    "polyglot_notebook": {
     "kernelName": "pwsh"
    },
    "vscode": {
     "languageId": "polyglot-notebook"
    }
   },
   "outputs": [
    {
     "name": "stdout",
     "output_type": "stream",
     "text": [
      "gpt-4o-2024-08-06\n",
      "gpt-4-1106-preview\n",
      "chatgpt-4o-latest\n",
      "tts-1-hd-1106\n",
      "tts-1-hd\n",
      "dall-e-2\n",
      "gpt-4o-mini\n",
      "text-embedding-3-large\n",
      "gpt-4o-mini-2024-07-18\n",
      "tts-1\n",
      "tts-1-1106\n",
      "gpt-4-0125-preview\n",
      "gpt-3.5-turbo-0125\n",
      "gpt-4-turbo-preview\n",
      "gpt-3.5-turbo\n",
      "whisper-1\n",
      "gpt-4-turbo\n",
      "gpt-4-turbo-2024-04-09\n",
      "gpt-3.5-turbo-16k\n",
      "text-embedding-3-small\n",
      "gpt-3.5-turbo-1106\n",
      "gpt-3.5-turbo-instruct-0914\n",
      "gpt-4-0613\n",
      "gpt-4\n",
      "gpt-3.5-turbo-instruct\n",
      "gpt-4o\n",
      "babbage-002\n",
      "davinci-002\n",
      "dall-e-3\n",
      "gpt-4o-2024-05-13\n",
      "text-embedding-ada-002\n",
      "ft:gpt-3.5-turbo-0613:rcr::9fXKjujH:ckpt-step-76\n",
      "ft:gpt-3.5-turbo-0613:rcr::9fXKjY0j\n"
     ]
    }
   ],
   "source": [
    "(Invoke-RestMethod -Method Get -Uri https://api.openai.com/v1/models).data.id"
   ]
  },
  {
   "cell_type": "markdown",
   "metadata": {},
   "source": [
    "## The magic "
   ]
  },
  {
   "cell_type": "code",
   "execution_count": 30,
   "metadata": {
    "dotnet_interactive": {
     "language": "pwsh"
    },
    "polyglot_notebook": {
     "kernelName": "pwsh"
    },
    "vscode": {
     "languageId": "polyglot-notebook"
    }
   },
   "outputs": [],
   "source": [
    "Import-Module ./dbatools.ai.psd1"
   ]
  },
  {
   "cell_type": "code",
   "execution_count": 40,
   "metadata": {
    "dotnet_interactive": {
     "language": "pwsh"
    },
    "polyglot_notebook": {
     "kernelName": "pwsh"
    },
    "vscode": {
     "languageId": "polyglot-notebook"
    }
   },
   "outputs": [
    {
     "data": {
      "text/plain": []
     },
     "metadata": {},
     "output_type": "display_data"
    },
    {
     "name": "stdout",
     "output_type": "stream",
     "text": [
      "\n",
      "\u001b[32;1mProcessedFile    : \u001b[0mimmunization.pdf\n",
      "\u001b[32;1mMarkdown         : \u001b[0mBelow is the extracted text from the PDF document converted to Markdown format:\n",
      "                   \n",
      "                   ```\n",
      "                   IMMUNIZATION RECORD FORM\n",
      "                   \n",
      "                   Name of Patient: _________________________________________________\n",
      "                   Date of Birth: ________________\n",
      "                   Patient ID or MRN #: _____________________________________________\n",
      "                   Phone Number: ____________________________\n",
      "                   \n",
      "                   Vaccination Details:\n",
      "                   \n",
      "                   | Vaccine Name    | Date Given | Lot #       | Manufacturer | Administered By |\n",
      "                   |-----------------|------------|-------------|--------------|-----------------|\n",
      "                   | Hepatitis B     |            |             |              |                 |\n",
      "                   | DTaP            |            |             |              |                 |\n",
      "                   | Hib             |            |             |              |                 |\n",
      "                   | Poliovirus      |            |             |              |                 |\n",
      "                   | MMR             |            |             |              |                 |\n",
      "                   | Varicella       |            |             |              |                 |\n",
      "                   | Hepatitis A     |            |             |              |                 |\n",
      "                   | Others          |            |             |              |                 |\n",
      "                   \n",
      "                   Next Vaccination Dates:\n",
      "                   \n",
      "                   | Vaccine Name    | Next Due |\n",
      "                   |-----------------|----------|\n",
      "                   | Hepatitis B     |          |\n",
      "                   | DTaP            |          |\n",
      "                   | Hib             |          |\n",
      "                   | Poliovirus      |          |\n",
      "                   | MMR             |          |\n",
      "                   | Varicella       |          |\n",
      "                   | Hepatitis A     |          |\n",
      "                   | Others          |          |\n",
      "                   \n",
      "                   Clinician Signature: ______________________________________________\n",
      "                   Date: _________________\n",
      "                   ``` \n",
      "                   \n",
      "                   The text has been formatted preserving the structure of an immunization record \n",
      "                   form.\n",
      "\u001b[32;1mStructuredData   : \u001b[0m@{pet_name=Buddy; owner_name=John Doe; pet_breed=Golden Retriever; \n",
      "                   vaccinations=System.Object[]}\n",
      "\u001b[32;1mTableNames       : \u001b[0m{pet, pet_vaccinations}\n",
      "\u001b[32;1mSelectStatements : \u001b[0m{SELECT TOP 10 * FROM dbo.pet, SELECT TOP 10 * FROM dbo.pet_vaccinations}\n",
      "\u001b[32;1mSqlResults       : \u001b[0m{1, 2, 3, 4…}\n",
      "\n",
      "\n"
     ]
    },
    {
     "ename": "Error",
     "evalue": "Command failed: SubmitCode: Import-DbaiFile -RequiredText \"2019\" -OutVariable  ...",
     "output_type": "error",
     "traceback": [
      "Command failed: SubmitCode: Import-DbaiFile -RequiredText \"2019\" -OutVariable  ..."
     ]
    }
   ],
   "source": [
    "Import-DbaiFile -RequiredText \"2019\" -OutVariable response\n",
    "$response\n",
    "<#\n",
    "$splat = @{\n",
    "    Path            = './lib/immunization.pdf'\n",
    "    JsonSchemaPath  = './lib/immunization.json'\n",
    "    SqlInstance     = 'localhost'\n",
    "    Database        = 'tempdb'\n",
    "    Schema          = 'dbo'\n",
    "    SystemMessage   = 'Convert text to structured data.'\n",
    "}\n",
    "\n",
    "Import-DbaiFile @splat\n",
    "#>"
   ]
  },
  {
   "cell_type": "code",
   "execution_count": 38,
   "metadata": {
    "dotnet_interactive": {
     "language": "pwsh"
    },
    "polyglot_notebook": {
     "kernelName": "pwsh"
    },
    "vscode": {
     "languageId": "polyglot-notebook"
    }
   },
   "outputs": [],
   "source": [
    "$response.SqlResults"
   ]
  }
 ],
 "metadata": {
  "kernelspec": {
   "display_name": ".NET (C#)",
   "language": "C#",
   "name": ".net-csharp"
  },
  "language_info": {
   "name": "python"
  },
  "polyglot_notebook": {
   "kernelInfo": {
    "defaultKernelName": "csharp",
    "items": [
     {
      "aliases": [],
      "name": "csharp"
     }
    ]
   }
  }
 },
 "nbformat": 4,
 "nbformat_minor": 2
}
