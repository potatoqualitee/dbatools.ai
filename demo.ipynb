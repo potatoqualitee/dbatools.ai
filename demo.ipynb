{
 "cells": [
  {
   "cell_type": "markdown",
   "metadata": {},
   "source": [
    "### **Wrapper vs. Integration**\n",
    "\n",
    "| Aspect               | **Wrapper**                             | **Integration**                         |\n",
    "|----------------------|-----------------------------------------|-----------------------------------------|\n",
    "| **Definition**       | Simplifies API interaction              | Embeds AI to extend functionality       |\n",
    "| **Complexity**       | Minimal abstraction over the API        | Deep integration with application logic |\n",
    "| **System Awareness** | Operate without context of the host system's state or data | Leverage system data (like database schemas) for context-aware responses |\n",
    "| **Use Cases**        | Sending prompts, receiving responses    | Natural language commands, data import  |\n",
    "| **Examples**         | PSOpenAI, finetuna, aitoolkit           | dbatools.ai, PSHelp.Copilot, Assistants Chat Extension for GitHub Copilot Chat |\n",
    "\n",
    "### **Benefits of Integration**\n",
    "\n",
    "- **Efficiency**: Saves time by automating complex tasks.\n",
    "- **Accessibility**: Allows non-experts to perform advanced operations using plain language.\n",
    "- **Intelligence**: Makes informed decisions based on system data.\n",
    "\n",
    "### **Deep Dive into dbatools.ai as an Actual Integration**\n",
    "\n",
    "- **Natural Language Processing**:\n",
    "  - Transforms user queries into actionable SQL or PowerShell commands.\n",
    "  - Uses OpenAI models to understand intent and context.\n",
    "\n",
    "- **Function Calling and Structured Output**:\n",
    "  - Employs OpenAI's advanced features to get structured data, ensuring outputs are in executable formats.\n",
    "\n",
    "- **System Context Utilization**:\n",
    "  - Incorporates database schemas and metadata to generate accurate queries.\n",
    "  - Understands the specific environment (like database instances, tables, columns).\n",
    "\n",
    "- **Enhanced Workflows**:\n",
    "  - Automates data import processes from various file types.\n",
    "  - Provides progress tracking and feedback during operations.\n",
    "\n",
    "- **Safety Measures**:\n",
    "  - Checks query safety before execution to prevent harmful operations.\n",
    "  - Ensures that generated commands are valid and secure.\n",
    "\n"
   ]
  },
  {
   "cell_type": "markdown",
   "metadata": {},
   "source": [
    "## Using PSOpenAI to connect to OpenAI"
   ]
  },
  {
   "cell_type": "code",
   "execution_count": null,
   "metadata": {
    "dotnet_interactive": {
     "language": "pwsh"
    },
    "polyglot_notebook": {
     "kernelName": "pwsh"
    },
    "vscode": {
     "languageId": "polyglot-notebook"
    }
   },
   "outputs": [],
   "source": [
    "Request-ChatCompletion -Message \"What is a splat?\" | Select-Object -ExpandProperty Answer"
   ]
  },
  {
   "cell_type": "code",
   "execution_count": null,
   "metadata": {
    "dotnet_interactive": {
     "language": "pwsh"
    },
    "polyglot_notebook": {
     "kernelName": "pwsh"
    },
    "vscode": {
     "languageId": "polyglot-notebook"
    }
   },
   "outputs": [],
   "source": [
    "Request-ChatCompletion -Message \"What is a splat?\""
   ]
  },
  {
   "cell_type": "markdown",
   "metadata": {},
   "source": [
    "## PowerShell behind the scenes"
   ]
  },
  {
   "cell_type": "code",
   "execution_count": null,
   "metadata": {
    "dotnet_interactive": {
     "language": "pwsh"
    },
    "polyglot_notebook": {
     "kernelName": "pwsh"
    },
    "vscode": {
     "languageId": "polyglot-notebook"
    }
   },
   "outputs": [],
   "source": [
    "# Set the headers\n",
    "$headers = @{\n",
    "    \"Content-Type\"  = \"application/json\"\n",
    "    \"Authorization\" = \"Bearer $env:OPENAI_API_KEY\"\n",
    "}\n",
    "\n",
    "# Prepare the messages array\n",
    "$msgs = @(\n",
    "    @{\n",
    "        role    = \"user\"\n",
    "        content = \"What is a splat?\"\n",
    "    }\n",
    ")\n",
    "\n",
    "# Create the splat for Invoke-RestMethod\n",
    "$splat = @{\n",
    "    Uri     = \"https://api.openai.com/v1/chat/completions\"\n",
    "    Method  = \"Post\"\n",
    "    Headers = $headers\n",
    "    Body    = @{\n",
    "        model    = \"gpt-4o\"\n",
    "        messages = $msgs\n",
    "    } | ConvertTo-Json\n",
    "}\n",
    "\n",
    "$response = Invoke-RestMethod @splat\n",
    "\n",
    "# Output the assistant's reply\n",
    "$response.choices[0].message.content"
   ]
  },
  {
   "cell_type": "code",
   "execution_count": null,
   "metadata": {
    "dotnet_interactive": {
     "language": "pwsh"
    },
    "polyglot_notebook": {
     "kernelName": "pwsh"
    },
    "vscode": {
     "languageId": "polyglot-notebook"
    }
   },
   "outputs": [],
   "source": [
    "$response"
   ]
  },
  {
   "cell_type": "markdown",
   "metadata": {},
   "source": [
    "### Narrow its context"
   ]
  },
  {
   "cell_type": "code",
   "execution_count": null,
   "metadata": {
    "dotnet_interactive": {
     "language": "pwsh"
    },
    "polyglot_notebook": {
     "kernelName": "pwsh"
    },
    "vscode": {
     "languageId": "polyglot-notebook"
    }
   },
   "outputs": [],
   "source": [
    "# Set default values\n",
    "$PSDefaultParameterValues[\"Invoke-RestMethod:Headers\"] = $headers\n",
    "$PSDefaultParameterValues[\"Invoke-RestMethod:Method\"] = \"POST\"\n",
    "$PSDefaultParameterValues[\"Invoke-RestMethod:Uri\"] = \"https://api.openai.com/v1/chat/completions\"\n",
    "$PSDefaultParameterValues[\"*:OutVariable\"] = \"results\"\n",
    "\n",
    "# Prepare the messages array\n",
    "$msgs = @(\n",
    "    @{\n",
    "        role    = \"system\"\n",
    "        content = \"You are a PowerShell Expert.\"\n",
    "    }\n",
    "    @{\n",
    "        role    = \"user\"\n",
    "        content = \"What is a splat?\"\n",
    "    }\n",
    ")\n",
    "\n",
    "# Prepare the body\n",
    "$body = @{\n",
    "    model    = \"gpt-4o\"\n",
    "    messages = $msgs\n",
    "} | ConvertTo-Json\n",
    "\n",
    "$response = Invoke-RestMethod -Body $body\n",
    "\n",
    "# Output the assistant's reply\n",
    "$response.choices[0].message.content"
   ]
  },
  {
   "cell_type": "markdown",
   "metadata": {},
   "source": [
    "## How do I know which models I can use?"
   ]
  },
  {
   "cell_type": "code",
   "execution_count": null,
   "metadata": {
    "dotnet_interactive": {
     "language": "pwsh"
    },
    "polyglot_notebook": {
     "kernelName": "pwsh"
    },
    "vscode": {
     "languageId": "polyglot-notebook"
    }
   },
   "outputs": [],
   "source": [
    "(Invoke-RestMethod -Method Get -Uri https://api.openai.com/v1/models).data.id"
   ]
  },
  {
   "cell_type": "markdown",
   "metadata": {},
   "source": [
    "## The magic "
   ]
  },
  {
   "cell_type": "code",
   "execution_count": 8,
   "metadata": {
    "dotnet_interactive": {
     "language": "pwsh"
    },
    "polyglot_notebook": {
     "kernelName": "pwsh"
    },
    "vscode": {
     "languageId": "polyglot-notebook"
    }
   },
   "outputs": [],
   "source": [
    "Import-Module ./dbatools.ai.psd1\n",
    "\n",
    "$query = \"IF EXISTS (SELECT * FROM sys.objects WHERE object_id = OBJECT_ID(N'[dbo].[pet]') AND type in (N'U')) DROP TABLE [dbo].[pet] ; IF EXISTS (SELECT * FROM sys.objects WHERE object_id = OBJECT_ID(N'[dbo].[pet_vaccinations]') AND type in (N'U')) DROP TABLE [dbo].[pet_vaccinations]\"\n",
    "\n",
    "$splat = @{\n",
    "    SqlInstance = 'localhost'\n",
    "    Database    = 'tempdb'\n",
    "    Query       = $query\n",
    "}\n",
    "\n",
    "Invoke-DbaQuery @splat"
   ]
  },
  {
   "cell_type": "code",
   "execution_count": null,
   "metadata": {
    "dotnet_interactive": {
     "language": "pwsh"
    },
    "polyglot_notebook": {
     "kernelName": "pwsh"
    },
    "vscode": {
     "languageId": "polyglot-notebook"
    }
   },
   "outputs": [],
   "source": [
    "$splat = @{\n",
    "    Path            = './lib/immunization.md'\n",
    "    JsonSchemaPath  = './lib/immunization.json'\n",
    "    SqlInstance     = 'localhost'\n",
    "    Database        = 'tempdb'\n",
    "    Schema          = 'dbo'\n",
    "    SystemMessage   = 'Convert text to structured data.'\n",
    "}\n",
    "\n",
    "Import-DbaiFile @splat"
   ]
  },
  {
   "cell_type": "code",
   "execution_count": null,
   "metadata": {
    "dotnet_interactive": {
     "language": "pwsh"
    },
    "polyglot_notebook": {
     "kernelName": "pwsh"
    },
    "vscode": {
     "languageId": "polyglot-notebook"
    }
   },
   "outputs": [],
   "source": [
    "Invoke-DbaQuery -SqlInstance localhost -Query \"SELECT * FROM tempdb.dbo.pet_vaccinations\""
   ]
  }
 ],
 "metadata": {
  "kernelspec": {
   "display_name": ".NET (C#)",
   "language": "C#",
   "name": ".net-csharp"
  },
  "language_info": {
   "name": "python"
  },
  "polyglot_notebook": {
   "kernelInfo": {
    "defaultKernelName": "csharp",
    "items": [
     {
      "aliases": [],
      "name": "csharp"
     }
    ]
   }
  }
 },
 "nbformat": 4,
 "nbformat_minor": 2
}
