{
 "cells": [
  {
   "cell_type": "markdown",
   "id": "999cdc79",
   "metadata": {},
   "source": [
    "# When Data Processing Needs Knowledge\n",
    "Chrissy LeMaire, Microsoft MVP & GitHub Star\n",
    "\n",
    "## Is Beverly Hills part of Los Angeles?\n",
    "\n",
    "Traditional regex approach fails because there's no pattern that connects them"
   ]
  },
  {
   "cell_type": "code",
   "execution_count": null,
   "id": "dd738c7d",
   "metadata": {
    "language_info": {
     "name": "polyglot-notebook"
    },
    "polyglot_notebook": {
     "kernelName": "pwsh"
    }
   },
   "outputs": [],
   "source": [
    "\"Beverly Hills\" -match \"Los Angeles\"\n",
    "\"Los Angeles\" -match 90210"
   ]
  },
  {
   "cell_type": "markdown",
   "id": "274c3ca2",
   "metadata": {},
   "source": [
    "# \n",
    "# \n",
    "#\n",
    "# \n",
    "# \n",
    "# \n",
    "# "
   ]
  },
  {
   "cell_type": "markdown",
   "id": "8b7dd6dc",
   "metadata": {},
   "source": [
    "# \n",
    "# \n",
    "# "
   ]
  },
  {
   "cell_type": "markdown",
   "id": "1dfe5581",
   "metadata": {},
   "source": [
    "\n",
    "\n",
    "\n",
    "\n",
    "### AI Integration with JSON/Structured Output\n",
    "\n",
    "* Run Ollama: **ollama serve**\n",
    "* Pull the model: **ollama pull llama3.1**\n",
    "* Ask the local model a simple true/false:"
   ]
  },
  {
   "cell_type": "code",
   "execution_count": null,
   "id": "b553e973",
   "metadata": {
    "language_info": {
     "name": "polyglot-notebook"
    },
    "polyglot_notebook": {
     "kernelName": "pwsh"
    }
   },
   "outputs": [],
   "source": [
    "$question = \"Is Beverly Hills part of Los Angeles?\"\n",
    "\n",
    "# Define schema for true/false response\n",
    "$schema = @{\n",
    "    type = \"object\"\n",
    "    properties = @{\n",
    "        answer = @{\n",
    "            type = \"boolean\"\n",
    "        }\n",
    "    }\n",
    "    required = @(\"answer\")\n",
    "}\n",
    "\n",
    "# Make the API call\n",
    "$body = @{\n",
    "    model = \"llama3.1\"\n",
    "    messages = @(\n",
    "        @{\n",
    "            role = \"user\"\n",
    "            content = $question\n",
    "        }\n",
    "    )\n",
    "    stream = $false\n",
    "    format = $schema\n",
    "} | ConvertTo-Json -Depth 3\n",
    "\n",
    "$response = Invoke-RestMethod -Uri http://localhost:11434/api/chat -Method Post -Body $body\n",
    "\n",
    "# Clean, structured data we can work with 🎉\n",
    "$answerData = $response.message.content | ConvertFrom-Json\n",
    "\n",
    "\"Question: $question\"\n",
    "\"Answer:   $($answerData.answer)\""
   ]
  },
  {
   "cell_type": "markdown",
   "id": "7e5597e0",
   "metadata": {},
   "source": [
    "### Another Example: Filename Cleaning\n",
    "\n",
    "Let's see structured output tackle a practical problem - cleaning messy MP3 filenames using **world knowledge** or **context**:"
   ]
  },
  {
   "cell_type": "code",
   "execution_count": null,
   "id": "95390e76",
   "metadata": {
    "language_info": {
     "name": "polyglot-notebook"
    },
    "polyglot_notebook": {
     "kernelName": "pwsh"
    }
   },
   "outputs": [],
   "source": [
    "# Sample messy MP3 filenames\n",
    "$messyMp3Files = @(\n",
    "    \"01_bohrhap_queen.mp3\",\n",
    "    \"material_girl-madonna85.mp3\",\n",
    "    \"hotel_cali_eagles1976.mp3\",\n",
    "    \"IMAGINE-J-LENNON-track2.mp3\",\n",
    "    \"hey_jude_(beetles)_1968_.mp3\",\n",
    "    \"billiejean_MJ_thriller.mp3\",\n",
    "    \"sweet_child_of_mine_gnr87.mp3\",\n",
    "    \"shake_it_off-taylorswift.mp3\",\n",
    "    \"purple-haze-jimmy_hendrix_1967.mp3\",\n",
    "    \"bohemian(queen)rhaps.mp3\",\n",
    "    \"smells_like_teen_spirit_nirvana91.mp3\",\n",
    "    \"halo_beyonce_2008.mp3\"\n",
    ")\n",
    "\n",
    "# Define the schema for clean artist/song extraction\n",
    "$schema = @{\n",
    "    type       = \"object\"\n",
    "    properties = @{\n",
    "        artist = @{ type = \"string\" }\n",
    "        song   = @{ type = \"string\" }\n",
    "    }\n",
    "    required   = @(\"artist\", \"song\")\n",
    "}\n",
    "\n",
    "# The prompt that makes all the difference - includes examples!\n",
    "$prompt = @\"\n",
    "You are an AI that extracts artist and song names from messy MP3 filenames.\n",
    "\n",
    "Examples:\n",
    "1. \"hotel_cali_eagles1976.mp3\" → {\"artist\": \"Eagles\", \"song\": \"Hotel California\"}\n",
    "2. \"rolling_in_the_deep-adele_2011.mp3\" → {\"artist\": \"Adele\", \"song\": \"Rolling in the Deep\"}\n",
    "3. \"californication-RHCP.mp3\" → {\"artist\": \"Red Hot Chili Peppers\", \"song\": \"Californication\"}\n",
    "\n",
    "Now, extract from this filename:\n",
    "\"@\n",
    "\n",
    "# Process each file individually (\"asking tiny questions\")\n",
    "foreach ($file in $messyMp3Files) {\n",
    "    # Create the message for LLM\n",
    "    $msg = \"$prompt $file\"\n",
    "\n",
    "    # Create the payload with the schema object\n",
    "    $body = @{\n",
    "        model = \"llama3.1\"\n",
    "        messages = @(\n",
    "            @{\n",
    "                role    = \"user\"\n",
    "                content = $msg\n",
    "            }\n",
    "        )\n",
    "        stream = $false\n",
    "        format = $schema\n",
    "    } | ConvertTo-Json -Depth 6 -Compress\n",
    "\n",
    "    # Call the local LLM API\n",
    "    $response = Invoke-RestMethod -Uri http://localhost:11434/api/chat -Method Post -Body $body\n",
    "    $info = $response.message.content | ConvertFrom-Json\n",
    "\n",
    "    # Store result as PowerShell object\n",
    "    [pscustomobject]@{\n",
    "        Old = $file\n",
    "        New = \"$($info.artist) - $($info.song).mp3\"\n",
    "    }\n",
    "}"
   ]
  }
 ],
 "metadata": {
  "kernelspec": {
   "display_name": ".NET (C#)",
   "language": "C#",
   "name": ".net-csharp"
  },
  "language_info": {
   "name": "polyglot-notebook"
  },
  "polyglot_notebook": {
   "kernelInfo": {
    "defaultKernelName": "csharp",
    "items": [
     {
      "aliases": [],
      "name": "csharp"
     },
     {
      "aliases": [],
      "languageName": "pwsh",
      "name": "pwsh"
     }
    ]
   }
  }
 },
 "nbformat": 4,
 "nbformat_minor": 5
}
